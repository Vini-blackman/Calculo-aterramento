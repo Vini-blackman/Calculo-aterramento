{
 "cells": [
  {
   "cell_type": "markdown",
   "metadata": {},
   "source": [
    "Cálculo do Aterramento"
   ]
  },
  {
   "cell_type": "code",
   "execution_count": 1,
   "metadata": {},
   "outputs": [
    {
     "name": "stdout",
     "output_type": "stream",
     "text": [
      "Corrente de toque de curta duração é de: 0.16404877323527903\n",
      "Fator de redução é de: 1.1415042265795206\n",
      "Tensão de toque é de: 1006.7294292949325\n",
      "Rg é igual a: 131.1580038138402\n",
      "Tensão de passo é igual a: 3534.7713974738926\n",
      "O valor de Km é: 0.1876226510379725\n",
      "O valor de Ki é: 4.262\n",
      "O valor de Vt é: 26222.08073930082\n",
      "O valor de Ks é: 1.1912494204016673\n",
      "O valor de Vp é de: 166488.63188749977\n"
     ]
    }
   ],
   "source": [
    "#Declarando as variavéis\n",
    "import numpy as np\n",
    "import math as mt\n",
    "from math import log\n",
    "from math import e\n",
    "\n",
    "ro_A = 4225.48\n",
    "ro_S = 3000\n",
    "hs = 0.1\n",
    "Rch = 1000\n",
    "Lt = 328.5\n",
    "A = 70\n",
    "H = 0.6\n",
    "k1 = 20\n",
    "k2 = 1\n",
    "Ig = 2549.34\n",
    "D = 0.5\n",
    "H = 0.6\n",
    "n = 21\n",
    "d = 0.008\n",
    "\n",
    "#Calculo de corrente de curta duração\n",
    "Icd = 0.116/(np.sqrt(0.5))\n",
    "batata = Icd\n",
    "print(\"Corrente de toque de curta duração é de:\", batata)\n",
    "\n",
    "#Calculo de Tensão de Toque \n",
    "Frd_1 = float(1-(ro_A/ro_S))\n",
    "Frd_2 = (2*hs)+0.106\n",
    "Frd_final = 1-0.106*(Frd_1/Frd_2)\n",
    "Cs = float(Frd_final)\n",
    "Etcd = (Rch+(1.5*Cs*ro_S))*Icd\n",
    "print(\"Fator de redução é de:\",Cs)\n",
    "print(\"Tensão de toque é de:\",Etcd)\n",
    "\n",
    "#Calculo de Rg \n",
    "etapa_1_rg = 1/Lt\n",
    "etapa_2_rg = 1/ np.sqrt(20* A)\n",
    "etapa_3_rg = H*(np.sqrt(20*A))\n",
    "etapa_4_rg = 1/(1+(etapa_3_rg))\n",
    "etapa_5_rg = 1 + etapa_4_rg\n",
    "\n",
    "Rg = ro_A*((etapa_1_rg+etapa_2_rg)*etapa_5_rg)\n",
    "\n",
    "print(\"Rg é igual a:\",Rg)\n",
    "\n",
    "#Tensão de Passo Ep\n",
    "Ep = (Rch+6*Cs*ro_S)*Icd\n",
    "print(\"Tensão de passo é igual a:\",Ep)\n",
    "\n",
    "\n",
    "#Calculo do Km\n",
    "etapa_1_KM = 1/(2*np.pi)\n",
    "etapa_2_KM = np.square(D)/(16*H*d)\n",
    "etapa_3_KM = np.square(D+(2*H))\n",
    "etapa_4_KM = 8*D*d\n",
    "etapa_5_KM = etapa_3_KM/etapa_4_KM\n",
    "etapa_6_KM = H/(4*d)\n",
    "etapa_7_KM = mt.log(etapa_2_KM+etapa_5_KM-etapa_6_KM)\n",
    "etapa_8_KM = ((2*n)**(2/n))/np.sqrt(1+H)\n",
    "etapa_9_KM = 8/(np.pi*(2*n-1))\n",
    "etapa_10_KM = mt.log(etapa_9_KM)\n",
    "etapa_11_KM = etapa_1_KM * (etapa_7_KM + (etapa_8_KM * etapa_10_KM))\n",
    "Km = etapa_11_KM\n",
    "print(\"O valor de Km é:\", Km)\n",
    "\n",
    "#Calculo do Ki\n",
    "Ki = 0.65 + 0.172 * n\n",
    "print(\"O valor de Ki é:\", Ki)\n",
    "\n",
    "#Calculo do Vt\n",
    "Vt = ro_A* Ig * Km * Ki/Lt\n",
    "print(\"O valor de Vt é:\", Vt)\n",
    "\n",
    "#Calculo do Ks\n",
    "etapa_1_Ks = 1/np.pi\n",
    "etapa_2_Ks = 1/(2*H)\n",
    "etapa_3_Ks = 1/(D+H)\n",
    "etapa_4_Ks = 1/D\n",
    "etapa_5_Ks = 1-(0.5**(n-2))\n",
    "Ks = etapa_1_Ks*(etapa_2_Ks + etapa_3_Ks + (etapa_4_Ks * etapa_5_Ks))\n",
    "print(\"O valor de Ks é:\",Ks)\n",
    "\n",
    "#Calculo do Vp\n",
    "Vp = ro_A * Ig * Ks * Ki/Lt\n",
    "print(\"O valor de Vp é de:\",Vp)\n",
    "\n",
    "\n",
    "\n"
   ]
  },
  {
   "cell_type": "code",
   "execution_count": 4,
   "metadata": {},
   "outputs": [
    {
     "name": "stdout",
     "output_type": "stream",
     "text": [
      "Corrente de toque de curta duração é de: 0.16404877323527903\n"
     ]
    }
   ],
   "source": [
    "#Calculo de corrente de curta duração\n",
    "Icd = 0.116/(np.sqrt(0.5))\n",
    "batata = Icd\n",
    "print(\"Corrente de toque de curta duração é de:\", batata)"
   ]
  },
  {
   "cell_type": "code",
   "execution_count": 5,
   "metadata": {},
   "outputs": [
    {
     "name": "stdout",
     "output_type": "stream",
     "text": [
      "Fator de redução é de: 1.1415042265795206\n",
      "Tensão de toque é de: 1006.7294292949325\n"
     ]
    }
   ],
   "source": [
    "#Calculo de Tensão de Toque \n",
    "\n",
    "Frd_1 = float(1-(ro_A/ro_S))\n",
    "Frd_2 = (2*hs)+0.106\n",
    "Frd_final = 1-0.106*(Frd_1/Frd_2)\n",
    "Cs = float(Frd_final)\n",
    "Etcd = (Rch+(1.5*Cs*ro_S))*Icd\n",
    "print(\"Fator de redução é de:\",Cs)\n",
    "print(\"Tensão de toque é de:\",Etcd)"
   ]
  },
  {
   "cell_type": "code",
   "execution_count": 6,
   "metadata": {},
   "outputs": [
    {
     "name": "stdout",
     "output_type": "stream",
     "text": [
      "Rg é igual a: 179.9207104086428\n"
     ]
    }
   ],
   "source": [
    "#Calculo de Rg \n",
    "etapa_1_rg = 1/Lt\n",
    "etapa_2_rg = 1/ np.sqrt(20* A)\n",
    "etapa_3_rg = H*(np.sqrt(20*A))\n",
    "etapa_4_rg = 1/(1+(etapa_3_rg))\n",
    "etapa_5_rg = 1 + etapa_4_rg\n",
    "\n",
    "Rg = ro_A*((etapa_1_rg+etapa_2_rg)*etapa_5_rg)\n",
    "\n",
    "print(\"Rg é igual a:\",Rg)\n"
   ]
  },
  {
   "cell_type": "code",
   "execution_count": 7,
   "metadata": {},
   "outputs": [
    {
     "name": "stdout",
     "output_type": "stream",
     "text": [
      "Tensão de passo é igual a: 3534.7713974738926\n"
     ]
    }
   ],
   "source": [
    "#Tensão de Passo Ep\n",
    "Ep = (Rch+6*Cs*ro_S)*Icd\n",
    "print(\"Tensão de passo é igual a:\",Ep)"
   ]
  },
  {
   "cell_type": "code",
   "execution_count": 8,
   "metadata": {},
   "outputs": [
    {
     "name": "stdout",
     "output_type": "stream",
     "text": [
      "O valor de Km é: 0.1876226510379725\n"
     ]
    }
   ],
   "source": [
    "#Calculo do Km\n",
    "D = 0.5\n",
    "H = 0.6\n",
    "n = 21\n",
    "d = 0.008\n",
    "\n",
    "etapa_1_KM = 1/(2*np.pi)\n",
    "etapa_2_KM = np.square(D)/(16*H*d)\n",
    "etapa_3_KM = np.square(D+(2*H))\n",
    "etapa_4_KM = 8*D*d\n",
    "etapa_5_KM = etapa_3_KM/etapa_4_KM\n",
    "etapa_6_KM = H/(4*d)\n",
    "etapa_7_KM = mt.log(etapa_2_KM+etapa_5_KM-etapa_6_KM)\n",
    "etapa_8_KM = ((2*n)**(2/n))/np.sqrt(1+H)\n",
    "etapa_9_KM = 8/(np.pi*(2*n-1))\n",
    "etapa_10_KM = mt.log(etapa_9_KM)\n",
    "etapa_11_KM = etapa_1_KM * (etapa_7_KM + (etapa_8_KM * etapa_10_KM))\n",
    "Km = etapa_11_KM\n",
    "print(\"O valor de Km é:\", Km)\n"
   ]
  },
  {
   "cell_type": "code",
   "execution_count": 9,
   "metadata": {},
   "outputs": [
    {
     "name": "stdout",
     "output_type": "stream",
     "text": [
      "O valor de Ki é: 4.262\n"
     ]
    }
   ],
   "source": [
    "#Calculo do Ki\n",
    "Ki = 0.65 + 0.172 * n\n",
    "print(\"O valor de Ki é:\", Ki)"
   ]
  },
  {
   "cell_type": "code",
   "execution_count": 10,
   "metadata": {},
   "outputs": [
    {
     "name": "stdout",
     "output_type": "stream",
     "text": [
      "O valor de Vt é: 42898.17491464303\n"
     ]
    }
   ],
   "source": [
    "#Calculo do Vp\n",
    "Vt = ro_A* Ig * Km * Ki/Lt\n",
    "print(\"O valor de Vt é:\", Vt)"
   ]
  },
  {
   "cell_type": "code",
   "execution_count": null,
   "metadata": {},
   "outputs": [
    {
     "name": "stdout",
     "output_type": "stream",
     "text": [
      "O valor de Ks é: 1.1912494204016673\n"
     ]
    }
   ],
   "source": [
    "#Calculo do Ks\n",
    "etapa_1_Ks = 1/np.pi\n",
    "etapa_2_Ks = 1/(2*H)\n",
    "etapa_3_Ks = 1/(D+H)\n",
    "etapa_4_Ks = 1/D\n",
    "etapa_5_Ks = 1-(0.5**(n-2))\n",
    "Ks = etapa_1_Ks*(etapa_2_Ks + etapa_3_Ks + (etapa_4_Ks * etapa_5_Ks))\n",
    "print(\"O valor de Ks é:\",Ks)"
   ]
  },
  {
   "cell_type": "code",
   "execution_count": 12,
   "metadata": {},
   "outputs": [
    {
     "name": "stdout",
     "output_type": "stream",
     "text": [
      "O valor de Vp é de: 272368.1054534047\n"
     ]
    }
   ],
   "source": [
    "#Calculo do Vp\n",
    "Vp = ro_A * Ig * Ks * Ki/Lt\n",
    "print(\"O valor de Vp é de:\",Vp)"
   ]
  }
 ],
 "metadata": {
  "kernelspec": {
   "display_name": "Python 3",
   "language": "python",
   "name": "python3"
  },
  "language_info": {
   "codemirror_mode": {
    "name": "ipython",
    "version": 3
   },
   "file_extension": ".py",
   "mimetype": "text/x-python",
   "name": "python",
   "nbconvert_exporter": "python",
   "pygments_lexer": "ipython3",
   "version": "3.13.0"
  }
 },
 "nbformat": 4,
 "nbformat_minor": 2
}
